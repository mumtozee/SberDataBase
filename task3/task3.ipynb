{
 "cells": [
  {
   "cell_type": "markdown",
   "id": "752038e2",
   "metadata": {},
   "source": [
    "## Домашнее задание 3. Отчет по Redis\n",
    "\n",
    "<font color=\"green\"><h4>Ахмаджонов Мумтозбек</h4></font>"
   ]
  },
  {
   "cell_type": "markdown",
   "id": "5bb61ac3",
   "metadata": {},
   "source": [
    "Для максимального удобства с работы с редисом, я использую официальный клиент редиса для `Python`. Его можно установить командой:"
   ]
  },
  {
   "cell_type": "code",
   "execution_count": 1,
   "id": "07a6dbc9",
   "metadata": {},
   "outputs": [],
   "source": [
    "! pip install redis"
   ]
  },
  {
   "cell_type": "markdown",
   "id": "90cbeca5",
   "metadata": {},
   "source": [
    "Для запуска редис сервера использую официально поддерживаемый проект `Memurai`. Т.к. моя операционная система Windows 10, а для нее редис официально не поддерживается, пришлось воспользоваться такой оберткой. Подробная информация на сайте проекта."
   ]
  },
  {
   "cell_type": "markdown",
   "id": "9b2a846d",
   "metadata": {},
   "source": [
    "Есть датасет DailyDialogs - примеры различных диалогов в виде история-ответ. Попробуем разными образами над ним поизвращаться и впихивать в базу данных."
   ]
  },
  {
   "cell_type": "code",
   "execution_count": 2,
   "id": "c9fe3a02",
   "metadata": {},
   "outputs": [],
   "source": [
    "import numpy as np\n",
    "import pandas as pd\n",
    "\n",
    "import json"
   ]
  },
  {
   "cell_type": "code",
   "execution_count": 3,
   "id": "f14eeba2",
   "metadata": {},
   "outputs": [
    {
     "data": {
      "text/html": [
       "<div>\n",
       "<style scoped>\n",
       "    .dataframe tbody tr th:only-of-type {\n",
       "        vertical-align: middle;\n",
       "    }\n",
       "\n",
       "    .dataframe tbody tr th {\n",
       "        vertical-align: top;\n",
       "    }\n",
       "\n",
       "    .dataframe thead th {\n",
       "        text-align: right;\n",
       "    }\n",
       "</style>\n",
       "<table border=\"1\" class=\"dataframe\">\n",
       "  <thead>\n",
       "    <tr style=\"text-align: right;\">\n",
       "      <th></th>\n",
       "      <th>history</th>\n",
       "      <th>response</th>\n",
       "    </tr>\n",
       "  </thead>\n",
       "  <tbody>\n",
       "    <tr>\n",
       "      <th>0</th>\n",
       "      <td>Say , Jim , how about going for a few beers af...</td>\n",
       "      <td>What do you mean ? It will help us to relax .</td>\n",
       "    </tr>\n",
       "    <tr>\n",
       "      <th>1</th>\n",
       "      <td>Say , Jim , how about going for a few beers af...</td>\n",
       "      <td>Do you really think so ? I don't . It will jus...</td>\n",
       "    </tr>\n",
       "    <tr>\n",
       "      <th>2</th>\n",
       "      <td>Say , Jim , how about going for a few beers af...</td>\n",
       "      <td>I guess you are right.But what shall we do ? I...</td>\n",
       "    </tr>\n",
       "    <tr>\n",
       "      <th>3</th>\n",
       "      <td>Say , Jim , how about going for a few beers af...</td>\n",
       "      <td>I suggest a walk over to the gym where we can ...</td>\n",
       "    </tr>\n",
       "    <tr>\n",
       "      <th>4</th>\n",
       "      <td>Say , Jim , how about going for a few beers af...</td>\n",
       "      <td>That's a good idea . I hear Mary and Sally oft...</td>\n",
       "    </tr>\n",
       "  </tbody>\n",
       "</table>\n",
       "</div>"
      ],
      "text/plain": [
       "                                             history  \\\n",
       "0  Say , Jim , how about going for a few beers af...   \n",
       "1  Say , Jim , how about going for a few beers af...   \n",
       "2  Say , Jim , how about going for a few beers af...   \n",
       "3  Say , Jim , how about going for a few beers af...   \n",
       "4  Say , Jim , how about going for a few beers af...   \n",
       "\n",
       "                                            response  \n",
       "0      What do you mean ? It will help us to relax .  \n",
       "1  Do you really think so ? I don't . It will jus...  \n",
       "2  I guess you are right.But what shall we do ? I...  \n",
       "3  I suggest a walk over to the gym where we can ...  \n",
       "4  That's a good idea . I hear Mary and Sally oft...  "
      ]
     },
     "execution_count": 3,
     "metadata": {},
     "output_type": "execute_result"
    }
   ],
   "source": [
    "dialog = pd.read_csv('./daily_dialog.tsv', sep='\\t')\n",
    "dialog.columns = ['history', 'response', 'DA', 'SENT']\n",
    "dialog.drop(columns=['DA', 'SENT'], inplace=True)\n",
    "dialog.head()"
   ]
  },
  {
   "cell_type": "markdown",
   "id": "e5f67489",
   "metadata": {},
   "source": [
    "Сохраним эту таблицу в виде `json` файла:"
   ]
  },
  {
   "cell_type": "code",
   "execution_count": 4,
   "id": "b115af65",
   "metadata": {},
   "outputs": [],
   "source": [
    "dialog.to_json('./dialogs.json', orient='records')"
   ]
  },
  {
   "cell_type": "markdown",
   "id": "816e56d3",
   "metadata": {},
   "source": [
    "Теперь подготовим наши большие данные (для сета не нашел более креативного способа как в виде `json` файла хранить данные, поэтому загенерил в помощью питона, и позже будет видно что он достаточно большой получился):"
   ]
  },
  {
   "cell_type": "code",
   "execution_count": 5,
   "id": "fec1452a",
   "metadata": {},
   "outputs": [],
   "source": [
    "with open('./dialogs.json', 'r') as data_file:\n",
    "    test_data = json.load(data_file)\n",
    "    big_string = str(test_data)\n",
    "    big_list = big_string.split()\n",
    "    big_list = big_list[:int((len(big_list) * 0.3))]\n",
    "tmp_nums = np.linspace(-1000, 6000, 700000)\n",
    "big_set = set(str(x) for x in tmp_nums)\n",
    "big_zset = {str(x) : x for x in tmp_nums[:350000]}"
   ]
  },
  {
   "cell_type": "code",
   "execution_count": 6,
   "id": "07c27a59",
   "metadata": {},
   "outputs": [
    {
     "data": {
      "text/plain": [
       "552.5322179031684"
      ]
     },
     "execution_count": 6,
     "metadata": {},
     "output_type": "execute_result"
    }
   ],
   "source": [
    "float(next(iter(big_set)))"
   ]
  },
  {
   "cell_type": "code",
   "execution_count": 7,
   "id": "cd8be263",
   "metadata": {},
   "outputs": [],
   "source": [
    "import sys\n",
    "\n",
    "def printobjsize(obj):\n",
    "    print(f\"The object weighs: {sys.getsizeof(obj) / (2 ** 20) :.2f} mb\")"
   ]
  },
  {
   "cell_type": "code",
   "execution_count": 8,
   "id": "09fb43d1",
   "metadata": {},
   "outputs": [
    {
     "name": "stdout",
     "output_type": "stream",
     "text": [
      "The object weighs: 30.27 mb\n",
      "The object weighs: 15.41 mb\n",
      "The object weighs: 32.00 mb\n",
      "The object weighs: 20.00 mb\n"
     ]
    }
   ],
   "source": [
    "printobjsize(big_string)\n",
    "printobjsize(big_list)\n",
    "printobjsize(big_set)\n",
    "printobjsize(big_zset)"
   ]
  },
  {
   "cell_type": "markdown",
   "id": "a278cd42",
   "metadata": {},
   "source": [
    "Теперь подключимся собственно к БД который по умолчанию `redis-server` запустил по адресу `https://localhost:6379`"
   ]
  },
  {
   "cell_type": "code",
   "execution_count": 9,
   "id": "08481bbb",
   "metadata": {},
   "outputs": [],
   "source": [
    "import redis\n",
    "from time import time"
   ]
  },
  {
   "cell_type": "code",
   "execution_count": 10,
   "id": "60a47679",
   "metadata": {},
   "outputs": [],
   "source": [
    "r = redis.Redis(host='localhost', port=6379, db=0)"
   ]
  },
  {
   "cell_type": "markdown",
   "id": "ef0651c9",
   "metadata": {},
   "source": [
    "Можем проверить, пустая ли БД:"
   ]
  },
  {
   "cell_type": "code",
   "execution_count": 11,
   "id": "a7529df3",
   "metadata": {},
   "outputs": [
    {
     "data": {
      "text/plain": [
       "1"
      ]
     },
     "execution_count": 11,
     "metadata": {},
     "output_type": "execute_result"
    }
   ],
   "source": [
    "# 127.0.0.1:6379> DBSIZE\n",
    "r.dbsize()"
   ]
  },
  {
   "cell_type": "markdown",
   "id": "bc89c337",
   "metadata": {},
   "source": [
    "Теперь докинем туда данные:"
   ]
  },
  {
   "cell_type": "code",
   "execution_count": 12,
   "id": "1d1cd86b",
   "metadata": {},
   "outputs": [
    {
     "data": {
      "text/plain": [
       "True"
      ]
     },
     "execution_count": 12,
     "metadata": {},
     "output_type": "execute_result"
    }
   ],
   "source": [
    "# 127.0.0.1:6379> SET test_str ...\n",
    "r.set('test_str', big_string)"
   ]
  },
  {
   "cell_type": "code",
   "execution_count": 13,
   "id": "80230c00",
   "metadata": {},
   "outputs": [],
   "source": [
    "# 127.0.0.1:6379> RPUSH test_list ...\n",
    "for i in range(0, len(big_list), 1000):\n",
    "    r.rpush('test_list', *big_list[i:i+1000])"
   ]
  },
  {
   "cell_type": "code",
   "execution_count": 14,
   "id": "4c643e61",
   "metadata": {},
   "outputs": [
    {
     "data": {
      "text/plain": [
       "700000"
      ]
     },
     "execution_count": 14,
     "metadata": {},
     "output_type": "execute_result"
    }
   ],
   "source": [
    "# 127.0.0.1:6379> SADD test_set ...\n",
    "r.sadd('test_set', *big_set)"
   ]
  },
  {
   "cell_type": "code",
   "execution_count": 15,
   "id": "cd620e42",
   "metadata": {},
   "outputs": [
    {
     "data": {
      "text/plain": [
       "350000"
      ]
     },
     "execution_count": 15,
     "metadata": {},
     "output_type": "execute_result"
    }
   ],
   "source": [
    "# 127.0.0.1:6379> ZADD test_zset ...\n",
    "r.zadd('test_zset', big_zset)"
   ]
  },
  {
   "cell_type": "code",
   "execution_count": 16,
   "id": "5d17a821",
   "metadata": {},
   "outputs": [
    {
     "data": {
      "text/plain": [
       "4"
      ]
     },
     "execution_count": 16,
     "metadata": {},
     "output_type": "execute_result"
    }
   ],
   "source": [
    "r.dbsize()"
   ]
  },
  {
   "cell_type": "markdown",
   "id": "129fd761",
   "metadata": {},
   "source": [
    "После того как добавили данные, можно померить скорости сохранения и чтения данных:"
   ]
  },
  {
   "cell_type": "markdown",
   "id": "4b496fd4",
   "metadata": {},
   "source": [
    "Достанем первые 2000 элементов из большого списка:"
   ]
  },
  {
   "cell_type": "code",
   "execution_count": 17,
   "id": "a9306a53",
   "metadata": {},
   "outputs": [
    {
     "name": "stdout",
     "output_type": "stream",
     "text": [
      "Operation took:  11.97ms\n"
     ]
    }
   ],
   "source": [
    "bt = time()\n",
    "res = r.lrange('test_list', 0, 2000)\n",
    "et = time()\n",
    "print(f\"Operation took: {(et - bt) * 1000: .2f}ms\")"
   ]
  },
  {
   "cell_type": "markdown",
   "id": "7eb9118f",
   "metadata": {},
   "source": [
    "Теперь докинем туда столько же элементов:"
   ]
  },
  {
   "cell_type": "code",
   "execution_count": 18,
   "id": "c4acd59a",
   "metadata": {},
   "outputs": [
    {
     "name": "stdout",
     "output_type": "stream",
     "text": [
      "Operation took:  17.98ms\n"
     ]
    }
   ],
   "source": [
    "bt = time()\n",
    "res = r.lpush('test_list', *big_list[:2000])\n",
    "et = time()\n",
    "print(f\"Operation took: {(et - bt) * 1000: .2f}ms\")"
   ]
  },
  {
   "cell_type": "markdown",
   "id": "9271e639",
   "metadata": {},
   "source": [
    "Добавим слово \"Hello\" под конец нашей большой строки:"
   ]
  },
  {
   "cell_type": "code",
   "execution_count": 19,
   "id": "58a1a073",
   "metadata": {},
   "outputs": [
    {
     "name": "stdout",
     "output_type": "stream",
     "text": [
      "Operation took:  1.00ms\n"
     ]
    }
   ],
   "source": [
    "bt = time()\n",
    "res = r.append('test_string', \"Hello\")\n",
    "et = time()\n",
    "print(f\"Operation took: {(et - bt) * 1000: .2f}ms\")"
   ]
  },
  {
   "cell_type": "markdown",
   "id": "4b8f0a67",
   "metadata": {},
   "source": [
    "Достанем длину строки и префикс длины 30000:"
   ]
  },
  {
   "cell_type": "code",
   "execution_count": 20,
   "id": "3b84c722",
   "metadata": {},
   "outputs": [
    {
     "name": "stdout",
     "output_type": "stream",
     "text": [
      "Operation took:  1.00ms\n"
     ]
    }
   ],
   "source": [
    "bt = time()\n",
    "res = r.strlen('test_string')\n",
    "et = time()\n",
    "print(f\"Operation took: {(et - bt) * 1000: .2f}ms\")"
   ]
  },
  {
   "cell_type": "code",
   "execution_count": 21,
   "id": "dbb808c9",
   "metadata": {},
   "outputs": [
    {
     "name": "stdout",
     "output_type": "stream",
     "text": [
      "Operation took:  0.99ms\n"
     ]
    }
   ],
   "source": [
    "bt = time()\n",
    "res = r.substr('test_string', 0, 30000)\n",
    "et = time()\n",
    "print(f\"Operation took: {(et - bt) * 1000: .2f}ms\")"
   ]
  },
  {
   "cell_type": "markdown",
   "id": "873795a2",
   "metadata": {},
   "source": [
    "Достанем ранг элемента 6000 из осторитрованного множества:"
   ]
  },
  {
   "cell_type": "code",
   "execution_count": 22,
   "id": "e1dd62af",
   "metadata": {},
   "outputs": [
    {
     "name": "stdout",
     "output_type": "stream",
     "text": [
      "Operation took:  0.000ms\n"
     ]
    }
   ],
   "source": [
    "bt = time()\n",
    "res = r.zscore('test_zset', '6000')\n",
    "et = time()\n",
    "print(f\"Operation took: {(et - bt) * 1000: .3f}ms\")"
   ]
  },
  {
   "cell_type": "markdown",
   "id": "ec6fb23d",
   "metadata": {},
   "source": [
    "Достанем первые 30000 элементов из отсортирванного сета по рангам:"
   ]
  },
  {
   "cell_type": "code",
   "execution_count": 23,
   "id": "de3fa42b",
   "metadata": {},
   "outputs": [
    {
     "name": "stdout",
     "output_type": "stream",
     "text": [
      "Operation took:  144.61ms\n"
     ]
    }
   ],
   "source": [
    "bt = time()\n",
    "res = r.zrange('test_zset', 0, 30000)\n",
    "et = time()\n",
    "print(f\"Operation took: {(et - bt) * 1000: .2f}ms\")"
   ]
  },
  {
   "cell_type": "markdown",
   "id": "0b60c119",
   "metadata": {},
   "source": [
    "Докинем ему еще 3000 элементов:"
   ]
  },
  {
   "cell_type": "code",
   "execution_count": 24,
   "id": "b3f518f1",
   "metadata": {},
   "outputs": [
    {
     "name": "stdout",
     "output_type": "stream",
     "text": [
      "Operation took:  24.935ms\n"
     ]
    }
   ],
   "source": [
    "tmp_nums = np.linspace(10000, 20000, 3000).astype(float)\n",
    "new_zset = {str(x) : x for x in tmp_nums}\n",
    "bt = time()\n",
    "res = r.zadd('test_zset', new_zset)\n",
    "et = time()\n",
    "print(f\"Operation took: {(et - bt) * 1000: .3f}ms\")"
   ]
  },
  {
   "cell_type": "markdown",
   "id": "5d0b120f",
   "metadata": {},
   "source": [
    "Проверим лежит ли 700000 в множестве:"
   ]
  },
  {
   "cell_type": "code",
   "execution_count": 25,
   "id": "f0d5e17a",
   "metadata": {},
   "outputs": [
    {
     "name": "stdout",
     "output_type": "stream",
     "text": [
      "Operation took:  3.001ms\n"
     ]
    }
   ],
   "source": [
    "bt = time()\n",
    "res = r.sismember('test_set', '700000')\n",
    "et = time()\n",
    "print(f\"Operation took: {(et - bt) * 1000: .3f}ms\")"
   ]
  },
  {
   "cell_type": "markdown",
   "id": "89d21d45",
   "metadata": {},
   "source": [
    "Теперь добавим этот элемент:"
   ]
  },
  {
   "cell_type": "code",
   "execution_count": 26,
   "id": "01a4ed8c",
   "metadata": {},
   "outputs": [
    {
     "name": "stdout",
     "output_type": "stream",
     "text": [
      "Operation took:  0.998ms\n"
     ]
    }
   ],
   "source": [
    "bt = time()\n",
    "res = r.sadd('test_set', '700000')\n",
    "et = time()\n",
    "print(f\"Operation took: {(et - bt) * 1000: .3f}ms\")"
   ]
  },
  {
   "cell_type": "markdown",
   "id": "4cd7e41b",
   "metadata": {},
   "source": [
    "Как можно увидеть, почти все операции включающие в себя добавление одного элемента происходят максимально быстро. И в нашем датасете, zset и set примерно с одинаково скоростью добавляют элемент. Можно теперь очистить БД:"
   ]
  },
  {
   "cell_type": "code",
   "execution_count": 27,
   "id": "1d0c80bb",
   "metadata": {},
   "outputs": [
    {
     "data": {
      "text/plain": [
       "4"
      ]
     },
     "execution_count": 27,
     "metadata": {},
     "output_type": "execute_result"
    }
   ],
   "source": [
    "# # 127.0.0.1:6379> DEL\n",
    "r.delete('test_set', 'test_string', 'test_list', 'test_zset')"
   ]
  },
  {
   "cell_type": "code",
   "execution_count": null,
   "id": "a59506fb",
   "metadata": {},
   "outputs": [],
   "source": []
  }
 ],
 "metadata": {
  "kernelspec": {
   "display_name": "Python 3 (ipykernel)",
   "language": "python",
   "name": "python3"
  },
  "language_info": {
   "codemirror_mode": {
    "name": "ipython",
    "version": 3
   },
   "file_extension": ".py",
   "mimetype": "text/x-python",
   "name": "python",
   "nbconvert_exporter": "python",
   "pygments_lexer": "ipython3",
   "version": "3.7.12"
  }
 },
 "nbformat": 4,
 "nbformat_minor": 5
}
