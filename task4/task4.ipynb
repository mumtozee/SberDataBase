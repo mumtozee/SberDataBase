{
 "cells": [
  {
   "cell_type": "markdown",
   "id": "d964ed2b",
   "metadata": {},
   "source": [
    "## Домашнее задание 4. Отчет по Nebula Graph\n",
    "\n",
    "<font color=\"green\"><h4>Ахмаджонов Мумтозбек</h4></font>"
   ]
  },
  {
   "cell_type": "code",
   "execution_count": 1,
   "id": "da9e2a1f",
   "metadata": {},
   "outputs": [],
   "source": [
    "from IPython.display import display, Image"
   ]
  },
  {
   "cell_type": "markdown",
   "id": "24b6aa89",
   "metadata": {},
   "source": [
    "- <h3>История развития БД</h3>"
   ]
  },
  {
   "cell_type": "markdown",
   "id": "2383973b",
   "metadata": {},
   "source": [
    "Nebula Graph была создана в 2018 году китайской компанией <a href=\"https://www.vesoft.com/en/\">Vesoft Inc.</a>. Первые строчки кода данного БД написал <a href=\"https://github.com/dutor\">dutor</a>. В 2019 году версия 0.1.0-alpha была выпущена как open-source. Подробные фичи показаны ниже в скриншоте:"
   ]
  },
  {
   "cell_type": "code",
   "execution_count": 2,
   "id": "dff61004",
   "metadata": {},
   "outputs": [
    {
     "data": {
      "text/html": [
       "<img src=\"./img/1.png\"/>"
      ],
      "text/plain": [
       "<IPython.core.display.Image object>"
      ]
     },
     "metadata": {},
     "output_type": "display_data"
    }
   ],
   "source": [
    "display(Image(url=\"./img/1.png\"))"
   ]
  },
  {
   "cell_type": "markdown",
   "id": "4ee1e8b9",
   "metadata": {},
   "source": [
    "В том же году вышли и версии: v1.0.0-beta, v1.0.0-rc1, v1.0.0-rc2, v1.0.0-rc3, и v1.0.0-rc4. А также СУБД представили на конференции HBaseCon:"
   ]
  },
  {
   "cell_type": "code",
   "execution_count": 3,
   "id": "f4766298",
   "metadata": {},
   "outputs": [
    {
     "data": {
      "text/html": [
       "<img src=\"./img/2.png\"/>"
      ],
      "text/plain": [
       "<IPython.core.display.Image object>"
      ]
     },
     "metadata": {},
     "output_type": "display_data"
    }
   ],
   "source": [
    "display(Image(url=\"./img/2.png\"))"
   ]
  },
  {
   "cell_type": "markdown",
   "id": "a643b836",
   "metadata": {},
   "source": [
    "В июне 2020 года был сделан самый значимый релиз:"
   ]
  },
  {
   "cell_type": "code",
   "execution_count": 4,
   "id": "4eccc9ff",
   "metadata": {},
   "outputs": [
    {
     "data": {
      "text/html": [
       "<img src=\"./img/3.png\"/>"
      ],
      "text/plain": [
       "<IPython.core.display.Image object>"
      ]
     },
     "metadata": {},
     "output_type": "display_data"
    }
   ],
   "source": [
    "display(Image(url=\"./img/3.png\"))"
   ]
  },
  {
   "cell_type": "markdown",
   "id": "184f9d61",
   "metadata": {},
   "source": [
    "А в марте 2021 года был сделан релиз второй версии СУБД:"
   ]
  },
  {
   "cell_type": "code",
   "execution_count": 5,
   "id": "876b1e90",
   "metadata": {},
   "outputs": [
    {
     "data": {
      "text/html": [
       "<img src=\"./img/4.png\"/>"
      ],
      "text/plain": [
       "<IPython.core.display.Image object>"
      ]
     },
     "metadata": {},
     "output_type": "display_data"
    }
   ],
   "source": [
    "display(Image(url=\"./img/4.png\"))"
   ]
  },
  {
   "cell_type": "markdown",
   "id": "27b7ade2",
   "metadata": {},
   "source": [
    "В августе того года была выпущена версия v2.5.0:"
   ]
  },
  {
   "cell_type": "code",
   "execution_count": 6,
   "id": "70c55212",
   "metadata": {},
   "outputs": [
    {
     "data": {
      "text/html": [
       "<img src=\"./img/5.png\"/>"
      ],
      "text/plain": [
       "<IPython.core.display.Image object>"
      ]
     },
     "metadata": {},
     "output_type": "display_data"
    }
   ],
   "source": [
    "display(Image(url=\"./img/5.png\"))"
   ]
  },
  {
   "cell_type": "markdown",
   "id": "0e99c1ad",
   "metadata": {},
   "source": [
    "В феврале этого года увидела свет <a href=\"https://github.com/vesoft-inc/nebula/releases/tag/v3.0.0\">третья</a> версия продукта."
   ]
  },
  {
   "cell_type": "markdown",
   "id": "ecefd5fa",
   "metadata": {},
   "source": [
    "- <h3>Инструменты взаимодействия с СУБД</h3>"
   ]
  },
  {
   "cell_type": "markdown",
   "id": "4ffafd2b",
   "metadata": {},
   "source": [
    "Nebula Graph поддерживает множество различных видов клиентов для пользователей для подключения и управления базой данных:\n",
    "- <a href=\"https://docs.nebula-graph.io/3.1.0/nebula-console/\">Nebula Console</a>: нативный консольный клиент БД\n",
    "- <a href=\"https://docs.nebula-graph.io/3.1.0/14.client/3.nebula-cpp-client/\">Nebula CPP</a>: клиент для языка С++\n",
    "- <a href=\"https://docs.nebula-graph.io/3.1.0/14.client/4.nebula-java-client/\">Nebula Java</a>: клиент для языка Джава\n",
    "- <a href=\"https://docs.nebula-graph.io/3.1.0/14.client/5.nebula-python-client/\">Nebula Python</a>: клиент для языка Python\n",
    "- <a href=\"https://docs.nebula-graph.io/3.1.0/14.client/6.nebula-go-client/\">Nebula Go</a>: клиент для языка Golang\n",
    "\n",
    "Помимо этих клиентов существует так же <a href=\"https://github.com/vesoft-inc/nebula-studio\">Nebula Graph Studio</a> - браузерный инструмент для визуализации СУБД Nebula Graph:"
   ]
  },
  {
   "cell_type": "code",
   "execution_count": 7,
   "id": "067dc109",
   "metadata": {},
   "outputs": [
    {
     "data": {
      "text/html": [
       "<img src=\"./img/6.png\"/>"
      ],
      "text/plain": [
       "<IPython.core.display.Image object>"
      ]
     },
     "metadata": {},
     "output_type": "display_data"
    }
   ],
   "source": [
    "display(Image(url=\"./img/6.png\"))"
   ]
  },
  {
   "cell_type": "markdown",
   "id": "c9cb0a40",
   "metadata": {},
   "source": [
    "- <h3>Database Engine в Nebula Graph</h3>"
   ]
  },
  {
   "cell_type": "markdown",
   "id": "8255c93a",
   "metadata": {},
   "source": [
    "Nebula Graph as is база данных, т.е. использует свой нативный движок. Но версии `v1.x` поддерживали движки `RockDB` и `HBase`, а начиная со второй версии БД, поддержка `HBase` прекратилась."
   ]
  },
  {
   "cell_type": "markdown",
   "id": "fc302fd0",
   "metadata": {},
   "source": [
    "- <h3>Язык запросов `nGQL`</h3>"
   ]
  },
  {
   "cell_type": "markdown",
   "id": "81e53a54",
   "metadata": {},
   "source": [
    "nGQL - это декларативный язык графовых запросов для СУБД Nebula Graph. Он позволяет создавать выразительные и эффективные графовые шаблоны (<a href=\"https://docs.nebula-graph.io/3.1.0/3.ngql-guide/1.nGQL-overview/3.graph-patterns/\">graph patterns</a>). Он очень похож на SQL поэтому утверждается что легок в изучении. Важно отметить, что этот язык еще не докончен и постоянно вносятся какие то исправления и оптимизации."
   ]
  },
  {
   "cell_type": "markdown",
   "id": "73e67d58",
   "metadata": {},
   "source": [
    "nGQL поддерживает:\n",
    "- обходы графов\n",
    "- сопоставление шаблонов\n",
    "- аггрегирование\n",
    "- мутации графов\n",
    "- управление доступом\n",
    "- сложные запросы\n",
    "- индексы\n",
    "- синтаксис большинства графовых запросов openCypher 9 (кроме синтаксиса мутации и управления)\n",
    "\n",
    "Так же поддерживаются различные типы данных: числовые, строковые, даты и времени, `NULL`, `list`, `set`, `map`, `geography`(подробнее <a href=\"https://docs.nebula-graph.io/3.1.0/3.ngql-guide/3.data-types/10.geography/\">тут</a>)."
   ]
  },
  {
   "cell_type": "markdown",
   "id": "93286dfb",
   "metadata": {},
   "source": [
    "По умолчанию, одна инстанция Nebula Graph состоит из однного или из многих графовых пространств. Графовые пространства физически изолированы друг от друга. Пользователи могут использовать различные пространства в одной и тоже же инстанции для хранения различных датасетов."
   ]
  },
  {
   "cell_type": "code",
   "execution_count": 8,
   "id": "7d6aba4c",
   "metadata": {},
   "outputs": [
    {
     "data": {
      "text/html": [
       "<img src=\"./img/7.png\"/>"
      ],
      "text/plain": [
       "<IPython.core.display.Image object>"
      ]
     },
     "metadata": {},
     "output_type": "display_data"
    }
   ],
   "source": [
    "display(Image(url=\"./img/7.png\"))"
   ]
  },
  {
   "cell_type": "markdown",
   "id": "8f63e5c4",
   "metadata": {},
   "source": [
    "Чтобы добавлять данные в графовое пространство, нужно определить схему для графовой бд. Схемы в Nebula Graph основываются на 4-х компонентах:"
   ]
  },
  {
   "cell_type": "code",
   "execution_count": 9,
   "id": "def0a88d",
   "metadata": {},
   "outputs": [
    {
     "data": {
      "text/html": [
       "<img src=\"./img/8.png\"/>"
      ],
      "text/plain": [
       "<IPython.core.display.Image object>"
      ]
     },
     "metadata": {},
     "output_type": "display_data"
    }
   ],
   "source": [
    "display(Image(url=\"./img/8.png\"))"
   ]
  },
  {
   "cell_type": "markdown",
   "id": "34bebcf3",
   "metadata": {},
   "source": [
    "Важно отметить, что в Nebula Graph команды `CREATE` и `ALTER` отреализованы асинхронным образом и срабатывают в <strong>следующем</strong> цикле \"сердцебиения\". Один цикл сердцебиения по умолчанию длится 10 секунд."
   ]
  },
  {
   "cell_type": "markdown",
   "id": "36c4cbd5",
   "metadata": {},
   "source": [
    "Так, приступим к рассмотрению важнейших операций, а точнее CRUD (create, read, update, delete). Посмторим какие у нас изначально имеются графовые пространства: "
   ]
  },
  {
   "cell_type": "code",
   "execution_count": 10,
   "id": "9964402b",
   "metadata": {},
   "outputs": [
    {
     "data": {
      "text/html": [
       "<img src=\"./img/9.png\"/>"
      ],
      "text/plain": [
       "<IPython.core.display.Image object>"
      ]
     },
     "metadata": {},
     "output_type": "display_data"
    }
   ],
   "source": [
    "display(Image(url=\"./img/9.png\"))"
   ]
  },
  {
   "cell_type": "markdown",
   "id": "fdd87981",
   "metadata": {},
   "source": [
    "Создадим новое пространство под названием \"footballplayers\" с помощью команды `CREATE SPACE` с нужными атрибутами. О них можно детально узнать в документации ссылку на которой я оставлю позже:"
   ]
  },
  {
   "cell_type": "code",
   "execution_count": 11,
   "id": "90959307",
   "metadata": {
    "scrolled": true
   },
   "outputs": [
    {
     "data": {
      "text/html": [
       "<img src=\"./img/10.png\"/>"
      ],
      "text/plain": [
       "<IPython.core.display.Image object>"
      ]
     },
     "metadata": {},
     "output_type": "display_data"
    }
   ],
   "source": [
    "display(Image(url=\"./img/10.png\"))"
   ]
  },
  {
   "cell_type": "markdown",
   "id": "1477081b",
   "metadata": {},
   "source": [
    "После указания `partition_num=15` проверим распределилась ли нагрузка сбалансированно по всам нашим хранилищам:"
   ]
  },
  {
   "cell_type": "code",
   "execution_count": 12,
   "id": "c3ec3eb9",
   "metadata": {},
   "outputs": [
    {
     "data": {
      "text/html": [
       "<img src=\"./img/11.png\"/>"
      ],
      "text/plain": [
       "<IPython.core.display.Image object>"
      ]
     },
     "metadata": {},
     "output_type": "display_data"
    }
   ],
   "source": [
    "display(Image(url=\"./img/11.png\"))"
   ]
  },
  {
   "cell_type": "markdown",
   "id": "b65e8516",
   "metadata": {},
   "source": [
    "Видим что все шикарно, значит можно использовать это пространство и добавлять туда данные. Сначала создадим теги вершин и виды ребер:"
   ]
  },
  {
   "cell_type": "code",
   "execution_count": 13,
   "id": "d9ab9a04",
   "metadata": {},
   "outputs": [
    {
     "data": {
      "text/html": [
       "<img src=\"./img/12.png\"/>"
      ],
      "text/plain": [
       "<IPython.core.display.Image object>"
      ]
     },
     "metadata": {},
     "output_type": "display_data"
    }
   ],
   "source": [
    "display(Image(url=\"./img/12.png\"))"
   ]
  },
  {
   "cell_type": "markdown",
   "id": "eabfbf00",
   "metadata": {},
   "source": [
    "Добавим вершины:"
   ]
  },
  {
   "cell_type": "code",
   "execution_count": 14,
   "id": "043a9a0f",
   "metadata": {
    "scrolled": true
   },
   "outputs": [
    {
     "data": {
      "text/html": [
       "<img src=\"./img/13.png\"/>"
      ],
      "text/plain": [
       "<IPython.core.display.Image object>"
      ]
     },
     "metadata": {},
     "output_type": "display_data"
    }
   ],
   "source": [
    "display(Image(url=\"./img/13.png\"))"
   ]
  },
  {
   "cell_type": "markdown",
   "id": "3e06d0df",
   "metadata": {},
   "source": [
    "И ребра:"
   ]
  },
  {
   "cell_type": "code",
   "execution_count": 15,
   "id": "86e1cad0",
   "metadata": {
    "scrolled": true
   },
   "outputs": [
    {
     "data": {
      "text/html": [
       "<img src=\"./img/14.png\"/>"
      ],
      "text/plain": [
       "<IPython.core.display.Image object>"
      ]
     },
     "metadata": {},
     "output_type": "display_data"
    }
   ],
   "source": [
    "display(Image(url=\"./img/14.png\"))"
   ]
  },
  {
   "cell_type": "markdown",
   "id": "42878747",
   "metadata": {},
   "source": [
    "Для чтения данных используются команды: `GO`, `FETCH`, `LOOKUP` и `MATCH`. После примеров станет более менее понятно как ими пользоваться. А детальные описания команд есть в докмуентации."
   ]
  },
  {
   "cell_type": "markdown",
   "id": "30f4dbf0",
   "metadata": {},
   "source": [
    "Среди игроков на которые подписан игрок с VID `player101` выведем тех, чей возраст >= 35. Поменяем названия соотвестующих колонок на `Teammate` и `Age`:"
   ]
  },
  {
   "cell_type": "code",
   "execution_count": 16,
   "id": "9694b447",
   "metadata": {},
   "outputs": [
    {
     "data": {
      "text/html": [
       "<img src=\"./img/15.png\"/>"
      ],
      "text/plain": [
       "<IPython.core.display.Image object>"
      ]
     },
     "metadata": {},
     "output_type": "display_data"
    }
   ],
   "source": [
    "display(Image(url=\"./img/15.png\"))"
   ]
  },
  {
   "cell_type": "markdown",
   "id": "d5246787",
   "metadata": {},
   "source": [
    "Чтобы посмотреть свойства объекта используется команда `FETCH PROP`:"
   ]
  },
  {
   "cell_type": "code",
   "execution_count": 17,
   "id": "8d2a8d13",
   "metadata": {},
   "outputs": [
    {
     "data": {
      "text/html": [
       "<img src=\"./img/16.png\"/>"
      ],
      "text/plain": [
       "<IPython.core.display.Image object>"
      ]
     },
     "metadata": {},
     "output_type": "display_data"
    }
   ],
   "source": [
    "display(Image(url=\"./img/16.png\"))"
   ]
  },
  {
   "cell_type": "markdown",
   "id": "5c5200eb",
   "metadata": {},
   "source": [
    "Для обновления данных используются команды `UPDATE` и `UPSERT`. Команда `UPSERT` добавит новый элемент если искомый не существует. Обновим имя игрока с `VID` `\"player100\"` и ребро `\"player101\" -> \"player100\"`:"
   ]
  },
  {
   "cell_type": "code",
   "execution_count": 18,
   "id": "1ffe1fc9",
   "metadata": {},
   "outputs": [
    {
     "data": {
      "text/html": [
       "<img src=\"./img/17.png\"/>"
      ],
      "text/plain": [
       "<IPython.core.display.Image object>"
      ]
     },
     "metadata": {},
     "output_type": "display_data"
    }
   ],
   "source": [
    "display(Image(url=\"./img/17.png\"))"
   ]
  },
  {
   "cell_type": "code",
   "execution_count": 19,
   "id": "92c51151",
   "metadata": {},
   "outputs": [
    {
     "data": {
      "text/html": [
       "<img src=\"./img/18.png\"/>"
      ],
      "text/plain": [
       "<IPython.core.display.Image object>"
      ]
     },
     "metadata": {},
     "output_type": "display_data"
    }
   ],
   "source": [
    "display(Image(url=\"./img/18.png\"))"
   ]
  },
  {
   "cell_type": "markdown",
   "id": "1f0a2a25",
   "metadata": {},
   "source": [
    "Теперь удалим парочку вершин и ребер. Делается это просто командой `DELETE`:"
   ]
  },
  {
   "cell_type": "code",
   "execution_count": 20,
   "id": "8ac64e37",
   "metadata": {},
   "outputs": [
    {
     "data": {
      "text/html": [
       "<img src=\"./img/19.png\"/>"
      ],
      "text/plain": [
       "<IPython.core.display.Image object>"
      ]
     },
     "metadata": {},
     "output_type": "display_data"
    }
   ],
   "source": [
    "display(Image(url=\"./img/19.png\"))"
   ]
  },
  {
   "cell_type": "code",
   "execution_count": 21,
   "id": "66fce02f",
   "metadata": {},
   "outputs": [
    {
     "data": {
      "text/html": [
       "<img src=\"./img/20.png\"/>"
      ],
      "text/plain": [
       "<IPython.core.display.Image object>"
      ]
     },
     "metadata": {},
     "output_type": "display_data"
    }
   ],
   "source": [
    "display(Image(url=\"./img/20.png\"))"
   ]
  },
  {
   "cell_type": "markdown",
   "id": "d57524c3",
   "metadata": {},
   "source": [
    "- <h3>Распределение файлов БД по разным носителям</h3>"
   ]
  },
  {
   "cell_type": "markdown",
   "id": "f346f161",
   "metadata": {},
   "source": [
    "Nebula Graph состоит из трех сервисов:\n",
    "- the Graph Service - отвечает за выполнение вычислений и запросов\n",
    "- the Meta Service - занимается управлением метаданными: операции схем, администрацией кластера и управлением привилегиями пользователя\n",
    "- the Storage Service - занимается хранением данных"
   ]
  },
  {
   "cell_type": "code",
   "execution_count": 22,
   "id": "911171a3",
   "metadata": {},
   "outputs": [
    {
     "data": {
      "text/html": [
       "<img src=\"./img/21.png\"/>"
      ],
      "text/plain": [
       "<IPython.core.display.Image object>"
      ]
     },
     "metadata": {},
     "output_type": "display_data"
    }
   ],
   "source": [
    "display(Image(url=\"./img/21.png\"))"
   ]
  },
  {
   "cell_type": "markdown",
   "id": "f43f24ad",
   "metadata": {},
   "source": [
    "Storage Service хранит граф в виде `key-value` пар. Все распределение происходит именно в сервисе хранилища. Чтобы организовать эффективное распрпеделение данными, Nebula graph использует стратегию static Hash c опреацией деления с остатком на ID вершины. Таким образом все входящие и исходящие ключи и теги вершин останутся в одном разделении (partition). Каждый `partition` хранится в разных носителях как мы уже увидели в самом начале в примерах."
   ]
  },
  {
   "cell_type": "markdown",
   "id": "19c701c8",
   "metadata": {},
   "source": [
    "Помимо распределения данных, создаются несколько копий реплик для повышения отказоустойчивости системы в целом. Чтобы поддержать синхронизацию и совместимость между копиями реплик Nebula Graph использует алгоритм `Raft`. Детально можно ознакомиться с механизмами и алгоритмами в документации."
   ]
  },
  {
   "cell_type": "markdown",
   "id": "63d566f5",
   "metadata": {},
   "source": [
    "- <h3>Язык программировния на котором создан СУБД</h3>"
   ]
  },
  {
   "cell_type": "markdown",
   "id": "265fbcd7",
   "metadata": {},
   "source": [
    "Все движки СУБД включая вышеупомянутые сервисы написаны на `С++`, а встроенный консоль клиента `nebula-console` написан на `Golang`."
   ]
  },
  {
   "cell_type": "markdown",
   "id": "7723f960",
   "metadata": {},
   "source": [
    "- <h3>Типы индексов поддерживаемые Nebula Graph</h3>"
   ]
  },
  {
   "cell_type": "markdown",
   "id": "ffffa1da",
   "metadata": {},
   "source": [
    "Для ускориения процесса выполнения запросов, Nebula Graph поддерживает два вида индексов: нативные и полнотекстные (native and full-text). "
   ]
  },
  {
   "cell_type": "markdown",
   "id": "54cf2ab9",
   "metadata": {},
   "source": [
    "Нативные индексы позволяют делать запросы на данные на основе каких-то свойств. Имеются следующие особенности нативных индексов:\n",
    "- Есть два типа нативных индексов: индекс тегов и вида ребер.\n",
    "- Нативные индексы нужно обновлять вручную. Для этого используется команда `REBUILD INDEX`.\n",
    "- Нативные индексы поддерживают индексирование сразу нескольких свойств тега или вида ребер (composite indexes), но не позволябт индексировать несколько тегов или видов ребер."
   ]
  },
  {
   "cell_type": "markdown",
   "id": "b571a069",
   "metadata": {},
   "source": [
    "Полнотекстовые индексы используются для выполнения поиска по префиксу, подстановочным знакам, регулярному выражению и нечеткому свойству строки (prefix, wildcard, regexp, fuzzy search). Особенности следующие:\n",
    "- полнотекстовые индексы позволяют индексировать только одно свойство.\n",
    "- Только строки размера не больше 256 байтов могут быть проиндексированы.\n",
    "- Полнотекстовые индексы не поддерживают логические операции."
   ]
  },
  {
   "cell_type": "markdown",
   "id": "66a1d7c0",
   "metadata": {},
   "source": [
    "- <h3>Процесс выполнения запросов в Nebula Graph</h3>"
   ]
  },
  {
   "cell_type": "markdown",
   "id": "1b1bfd7c",
   "metadata": {},
   "source": [
    "Через команду `EXPLAIN` можно посмотреть как выполняется определенный запрос:"
   ]
  },
  {
   "cell_type": "code",
   "execution_count": 23,
   "id": "68a55381",
   "metadata": {},
   "outputs": [
    {
     "data": {
      "text/html": [
       "<img src=\"./img/26.png\"/>"
      ],
      "text/plain": [
       "<IPython.core.display.Image object>"
      ]
     },
     "metadata": {},
     "output_type": "display_data"
    }
   ],
   "source": [
    "display(Image(url=\"./img/26.png\"))"
   ]
  },
  {
   "cell_type": "markdown",
   "id": "377e164a",
   "metadata": {},
   "source": [
    "Ниже в диаграмме можно увидеть примерную архитектуру как выполняется запрос обхода графа:"
   ]
  },
  {
   "cell_type": "code",
   "execution_count": 24,
   "id": "063d44cb",
   "metadata": {},
   "outputs": [
    {
     "data": {
      "text/html": [
       "<img src=\"./img/24.png\"/>"
      ],
      "text/plain": [
       "<IPython.core.display.Image object>"
      ]
     },
     "metadata": {},
     "output_type": "display_data"
    }
   ],
   "source": [
    "display(Image(url=\"./img/24.png\"))"
   ]
  },
  {
   "cell_type": "markdown",
   "id": "9aa1ffc1",
   "metadata": {},
   "source": [
    "Из самого важного, можно тут увидеть, что исполнение разделено на три части: parsing, validation и собственно execution."
   ]
  },
  {
   "cell_type": "markdown",
   "id": "ac433505",
   "metadata": {},
   "source": [
    "- <h3>План запросов в Nebula Graph</h3>"
   ]
  },
  {
   "cell_type": "code",
   "execution_count": 25,
   "id": "47e0260f",
   "metadata": {},
   "outputs": [
    {
     "data": {
      "text/html": [
       "<img src=\"./img/23.png\"/>"
      ],
      "text/plain": [
       "<IPython.core.display.Image object>"
      ]
     },
     "metadata": {},
     "output_type": "display_data"
    }
   ],
   "source": [
    "display(Image(url=\"./img/23.png\"))"
   ]
  },
  {
   "cell_type": "markdown",
   "id": "05ecf6f8",
   "metadata": {},
   "source": [
    "Как видим из диаграммы, после парсера идет планировщик запуска. Он же и планировщик запросов. Вскармливаем ему AST (Abstract Syntax Tree - результат парсинга текста запроса) и он выдает список действий(план запросов). Действие - наименьшая единица которая должна быть исполнения. Типичный действием считается чтение всех соседей данной вершины, чтение свойств ребра и фильтрация результата чтения по данным условиям. Например, как мы увидели раньше, запрос `SHOW TAGS` разделился на два действия: `Start` и `ShowTags`."
   ]
  },
  {
   "cell_type": "markdown",
   "id": "796fc1e7",
   "metadata": {},
   "source": [
    "- <h3>Транзакции в Nebula Graph</h3>"
   ]
  },
  {
   "cell_type": "markdown",
   "id": "d40f5034",
   "metadata": {},
   "source": [
    "Из-за совместимости с `openCypher 9` nGQL не поддерживает транзакций. Атомарность стараются поддержать инднивидуально для каждой команды."
   ]
  },
  {
   "cell_type": "markdown",
   "id": "ebbba570",
   "metadata": {},
   "source": [
    "- <h3>Методы восстановления</h3>"
   ]
  },
  {
   "cell_type": "markdown",
   "id": "26384a84",
   "metadata": {},
   "source": [
    "1) Backup & Restore (BR) - ксонсольный инструмент Nebula Graph для создания резервных копий графовых пространств и их восстановления. Инструмент поддерживает:\n",
    "- создание бекапа и восстановления данных за одну клику\n",
    "- восстановление данных их следующих видов бекап файлов:\n",
    "  - локальный диск (SSD/HDD). Рекомендуется использовать только в тестовом окружении\n",
    "  - интерфейс совместимый с Amazon S3: Alibaba Cloud OSS, MinIO, Ceph RGW, etc.\n",
    "- создание бекапа и восстановление всего кластера Nebula Graph\n",
    "\n",
    "2) Nebula Graph так же поддерживает использование снапшотов для бекапа и восстановления данных. Создается снапшпот через команду `CREATE SNAPSHOT`. Потом перетаскиваются созданные снапошоты в папку `data` и `wal` и перезапуском кластера данные восстанавливаются."
   ]
  },
  {
   "cell_type": "markdown",
   "id": "7ffbea19",
   "metadata": {},
   "source": [
    "- <h3>Шардинг</h3>"
   ]
  },
  {
   "cell_type": "markdown",
   "id": "42c2c254",
   "metadata": {},
   "source": [
    "Важно отметить, что шардинг графов является NP-трудной задачей. В Nebula Graph шардинг производится через стратегию `Static Hash` делится с остатком на id вершины. Можно посмотреть как это производится коде из официального репозитория Nebula Graph:"
   ]
  },
  {
   "cell_type": "code",
   "execution_count": 26,
   "id": "d623b37b",
   "metadata": {},
   "outputs": [
    {
     "data": {
      "text/html": [
       "<img src=\"./img/27.png\"/>"
      ],
      "text/plain": [
       "<IPython.core.display.Image object>"
      ]
     },
     "metadata": {},
     "output_type": "display_data"
    }
   ],
   "source": [
    "display(Image(url=\"./img/27.png\"))"
   ]
  },
  {
   "cell_type": "markdown",
   "id": "a0ce60ab",
   "metadata": {},
   "source": [
    "- <h3>Data Mining, Data Warehousing, OLAP</h3>"
   ]
  },
  {
   "cell_type": "markdown",
   "id": "478690f8",
   "metadata": {},
   "source": [
    "Анализ данных в данном СУБД производится в основном тоже в графовом виде и для data mining и data analysis Nebula Graph представляет дополнительные расширения: `Nebula Algorithm`(приложение Spark основанный на GraphX) и `Nebula Analytics`(доступно только в Nebula Enterprise Edition). Для Data Warehousing и OLAP от разработчиков СУБД еще нет решений :("
   ]
  },
  {
   "cell_type": "markdown",
   "id": "5beb6b23",
   "metadata": {},
   "source": [
    "- <h3>Методы защиты</h3>"
   ]
  },
  {
   "cell_type": "markdown",
   "id": "7439614c",
   "metadata": {},
   "source": [
    "Для реализации управления доступом nebula Graph использует методы локальной и LDAP аутентификации. Nebula Graph создает сессию когда клиент подключается к СУБД. Сессия содержит в себе информацию о соединении, а так же данные о пользователе. Если включена аутентификация, сессия отображается только соотвествующим пользователям."
   ]
  },
  {
   "cell_type": "markdown",
   "id": "02c54820",
   "metadata": {},
   "source": [
    "В локальной аутентификации именя пользователей и зашифрованные пароли хранятся в локальных серверах. Помимо этого метода используется так же легоквесный протокол LDAP (Lightweight Directory Access Protocol) для доступа к директориям и построения централизованной системы управлениями учетными записями."
   ]
  },
  {
   "cell_type": "markdown",
   "id": "1dc1e942",
   "metadata": {},
   "source": [
    "В Nebula Graph поддерживаются создание пользователей и распределение ролей между пользователями. Без включенной аутентификации все клиенты являются `root` пользователями. Существует роли: `GOD`, `ADMIN`, `DBA`, `USER`, `GUEST` (переисление по убыванию привилегий)."
   ]
  },
  {
   "cell_type": "markdown",
   "id": "1ad89fad",
   "metadata": {},
   "source": [
    "Nebula Graph так же поддерживает шифрование SSL во время обмена данными между клиентами и между сервисами."
   ]
  },
  {
   "cell_type": "markdown",
   "id": "34439c69",
   "metadata": {},
   "source": [
    "- <h3>Разработчики Nebula Graph</h3>"
   ]
  },
  {
   "cell_type": "markdown",
   "id": "99646fd6",
   "metadata": {},
   "source": [
    "Nebula Graph была разработана высокотехнологическим китайским стартапом Vesoft Inc. который бал основан в Октябре 2018. Команда в основном состоит из бывших инженеров FAANG компаний. В основном они занимаются анализом данных с использованием графовых технологий."
   ]
  },
  {
   "cell_type": "markdown",
   "id": "6f3f6e5d",
   "metadata": {},
   "source": [
    "- <h3>Демобаза языка запросов</h3>"
   ]
  },
  {
   "cell_type": "markdown",
   "id": "5bc824b4",
   "metadata": {},
   "source": [
    "Пользователи могут найти более чем 2500 примеров на nGQL в репозитории Nebula Graph на Github, в разделе <a href=\"https://github.com/vesoft-inc/nebula-graph/tree/master/tests/tck/features\">features</a>."
   ]
  },
  {
   "cell_type": "markdown",
   "id": "4d332ee2",
   "metadata": {},
   "source": [
    "- <h3>Документация и контакты</h3>"
   ]
  },
  {
   "cell_type": "markdown",
   "id": "f6247f5b",
   "metadata": {},
   "source": [
    "- Основная документация по СУБД: https://docs.nebula-graph.io/\n",
    "- Контакты разработчиков: https://www.vesoft.com/en/contact/"
   ]
  },
  {
   "cell_type": "code",
   "execution_count": null,
   "id": "11fa2a2f",
   "metadata": {},
   "outputs": [],
   "source": []
  }
 ],
 "metadata": {
  "kernelspec": {
   "display_name": "Python 3 (ipykernel)",
   "language": "python",
   "name": "python3"
  },
  "language_info": {
   "codemirror_mode": {
    "name": "ipython",
    "version": 3
   },
   "file_extension": ".py",
   "mimetype": "text/x-python",
   "name": "python",
   "nbconvert_exporter": "python",
   "pygments_lexer": "ipython3",
   "version": "3.7.12"
  }
 },
 "nbformat": 4,
 "nbformat_minor": 5
}
